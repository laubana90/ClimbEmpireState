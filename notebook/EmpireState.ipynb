{
 "cells": [
  {
   "cell_type": "markdown",
   "metadata": {},
   "source": [
    "# Climbing the Empire State\n",
    "\n",
    "## Introduction\n",
    "\n",
    "Imagine that you are walking up the Empire State building and playing a game with a friend: You throw a dice 100 times. Depending on the outcome you:\n",
    "\n",
    "* 1/2 : go one step down\n",
    "* 3/4/5: go one step up\n",
    "* 6: throw again and go up the resulting number of steps\n",
    "\n",
    "There are two additional considerations:\n",
    "* You cannot go lower than step 0\n",
    "* You have a chance of 0.1% of falling down and going back to step 0\n",
    "\n",
    "You bet with your friend that you will reach step 60. What is the chance that you will win this bet?\n",
    "\n",
    "## Random walk\n",
    "\n",
    "Your next step will be determined by the outcome of a dice roll, that means you will make a *random movement*. When you follow a succession of random movements, you are following a *random walk*, which is a well-known mathematical object. An example of random walks are the paths followed by molecules in a liquid or a gas.\n",
    "\n",
    "We will use `random()`, a subpackage of `numpy`, to create the simulation. "
   ]
  },
  {
   "cell_type": "code",
   "execution_count": 1,
   "metadata": {},
   "outputs": [],
   "source": [
    "import numpy as np\n",
    "\n",
    "def simulate_random_walk(n_rolls):\n",
    "    '''\n",
    "    Simulates a random walk given a number of dice rolls and returns the outcome. \n",
    "    Takes into account that the lower possible step is 0 and that \n",
    "    there is a 0.1% chance of falling down and having to start from 0.\n",
    "    \n",
    "    Each movement is based in the outcome of a dice roll:\n",
    "    - 1/2 : go one step down\n",
    "    - 3/4/5: go one step up\n",
    "    - 6: throw again and go up the resulting number of steps\n",
    "    \n",
    "\n",
    "    Parameters\n",
    "    ----------\n",
    "    n_rolls: int\n",
    "      Number of dice rolls\n",
    "\n",
    "    Returns\n",
    "    -------\n",
    "    random_walk: list\n",
    "      Final walk. Each element corresponds to the actual step based on the \n",
    "      roll outcome and the previous position\n",
    "\n",
    "    '''\n",
    "    \n",
    "    random_walk = [0]\n",
    "    for n in range(n_rolls):\n",
    "        # Take as initial position the previous step\n",
    "        step = random_walk[-1]\n",
    "        dice = np.random.randint(1,7)\n",
    "        if dice <= 2:\n",
    "            # Prevent step from being negative\n",
    "            step = max(0, step - 1)\n",
    "        elif dice <= 5:\n",
    "            step = step + 1\n",
    "        else:\n",
    "            step = step + np.random.randint(1,7)\n",
    "        # Account for 0.1% chances of falling down    \n",
    "        if np.random.rand() <= 0.001 :\n",
    "            step = 0\n",
    "        random_walk.append(step)\n",
    "    return random_walk\n"
   ]
  },
  {
   "cell_type": "markdown",
   "metadata": {},
   "source": [
    "### Visualize the random walk\n",
    "\n",
    "We use the `matplotlib` package to visualize the random walk, based on the dice roll outcome."
   ]
  },
  {
   "cell_type": "code",
   "execution_count": 11,
   "metadata": {},
   "outputs": [],
   "source": [
    "import matplotlib.pyplot as plt\n",
    "\n",
    "def plot_random_walk(random_walk, minimum):\n",
    "    '''\n",
    "    Create a simple line plot from the list that contains the steps\n",
    "    \n",
    "    Parameters\n",
    "    ----------\n",
    "    random_walk: list\n",
    "      Each element corresponds to each step from each dice roll.\n",
    "    minimum: int\n",
    "      Minimum step to reach at the end\n",
    "\n",
    "    '''\n",
    "    \n",
    "    plt.plot(random_walk)\n",
    "    \n",
    "    # Make the plot readable\n",
    "    plt.xlabel(\"Number of dice rolls\")\n",
    "    plt.ylabel(\"Position\")\n",
    "    plt.title(\"Random walk\")\n",
    "    plt.axhline(minimum, color='Gray', linestyle='--', linewidth=0.7)\n",
    "    plt.text(0,minimum*0.93,\"Want to have the end point above this mark\")\n",
    "    plt.show()\n"
   ]
  },
  {
   "cell_type": "markdown",
   "metadata": {},
   "source": [
    "## Create a distribution\n",
    "\n",
    "So far we have studied a single random walk. One way to know the probability of reaching step number 60 after 100 dice rolls is to compute the probability analytically. However, what we will do is to generate a set of random walks (pseudoexperiments) to create a distribution of end points. The larger the number of pseudoexperiments, the more accurate the probability will be. \n",
    "\n",
    "### Simulate multiple walks\n",
    "\n",
    "We can use the function that we created above, `simulate_random_walk` to generate a set of pseudoexperiments. We will store the outcomes in a `numpy` array."
   ]
  },
  {
   "cell_type": "code",
   "execution_count": 3,
   "metadata": {},
   "outputs": [],
   "source": [
    "def generate_multiple_walks(n_pseudoexperiments, n_rolls):\n",
    "    '''\n",
    "    Generates a number of random walks and stores the outcomes\n",
    "    as a numpy array. It uses the function simulate_random_walk\n",
    "    \n",
    "    Parameters\n",
    "    ----------\n",
    "    n_pseudoexperiments: int\n",
    "      Number of pseudoexperiments\n",
    "    n_rolls: int\n",
    "      Number of dice rolls\n",
    "\n",
    "    Returns\n",
    "    -------\n",
    "    all_random_walk: 2d-numpy array\n",
    "      Each element corresponds to one complete random walk\n",
    "    ends: numpy array\n",
    "       Each element corresponds to the end-point of a random walk\n",
    "\n",
    "    '''\n",
    "    \n",
    "    # Generate the set of random walks\n",
    "    all_walks = []\n",
    "    for i in range(n_pseudoexperiments):\n",
    "        random_walk = simulate_random_walk(n_rolls)\n",
    "        # Create a list of lists\n",
    "        all_walks.append(random_walk)\n",
    "\n",
    "    # Transform all walks into a 2d-numpy array and transpose it\n",
    "    all_walks_np = np.array(all_walks)\n",
    "    all_walks_np_t = np.transpose(all_walks_np)\n",
    "\n",
    "    # Select last row from all_walks_np_t\n",
    "    ends = all_walks_np_t[-1,:]\n",
    "    \n",
    "    return all_walks_np_t, ends\n"
   ]
  },
  {
   "cell_type": "markdown",
   "metadata": {},
   "source": [
    "### Compute the probability\n",
    "\n",
    "Finally, we calculate the probability to reach at least step number 60 by the 100 dice roll. "
   ]
  },
  {
   "cell_type": "code",
   "execution_count": 4,
   "metadata": {},
   "outputs": [],
   "source": [
    "def compute_probability(ends,n_pseudoexperiments, minimum):\n",
    "    '''\n",
    "    Compute the probability of reaching at least step 'minimum' after 'n_rolls' dice rolls\n",
    "    \n",
    "    Parameters\n",
    "    ----------\n",
    "    ends: numpy array\n",
    "       Each element corresponds to the end-point of a random walk\n",
    "    n_pseudoexperiments: int\n",
    "      Number of pseudoexperiments\n",
    "    minimum: int\n",
    "      Minimum step to reach at the end\n",
    "      \n",
    "    Returns\n",
    "    -------\n",
    "    probability: float\n",
    "        probability of reaching at least step 'minimum' after 'n_rolls' dice rolls\n",
    "\n",
    "    '''\n",
    "    probability = (np.count_nonzero(ends >= minimum)/n_pseudoexperiments)*100\n",
    "    \n",
    "    return probability"
   ]
  },
  {
   "cell_type": "markdown",
   "metadata": {},
   "source": [
    "### Visualize the set of random walks\n",
    "\n",
    "We use the `matplotlib` package to visualize the random walks. We will use a line plot to visualize all the random walks. To see the distribution of end points we will use a histogram."
   ]
  },
  {
   "cell_type": "code",
   "execution_count": 5,
   "metadata": {},
   "outputs": [],
   "source": [
    "def plot_multiple_random_walks(all_walks_np_t, minimum):\n",
    "    '''\n",
    "    Create multiple lines plot from the array that contains the several random walks\n",
    "    \n",
    "    Parameters\n",
    "    ----------\n",
    "    all_walks_np_t: 2d-numpy array\n",
    "      Each element corresponds to one complete random walk\n",
    "    minimum: int\n",
    "      Minimum step to reach at the end\n",
    "\n",
    "    '''\n",
    "    \n",
    "    plt.plot(all_walks_np_t)\n",
    "    \n",
    "    # Make the plot readable\n",
    "    plt.xlabel(\"Number of dice rolls\")\n",
    "    plt.ylabel(\"Position\")\n",
    "    plt.title(\"Random walk\")\n",
    "    plt.axhline(minimum, color='Gray', linestyle='--', linewidth=0.7)\n",
    "    plt.show()"
   ]
  },
  {
   "cell_type": "code",
   "execution_count": 6,
   "metadata": {},
   "outputs": [],
   "source": [
    "def histogram_endpoints(ends, probability, minimum):\n",
    "    '''\n",
    "    Create a histogram from the end points of the set of random walks\n",
    "    \n",
    "    Parameters\n",
    "    ----------\n",
    "    ends: numpy array\n",
    "       Each element corresponds to the end-point of a random walk\n",
    "    minimum: int\n",
    "      Minimum step to reach at the end\n",
    "\n",
    "    '''\n",
    "    __, ax = plt.subplots()\n",
    "    plt.hist(ends, bins=20)\n",
    "    \n",
    "    # Make the plot readable\n",
    "    plt.xlabel(\"Final step\")\n",
    "    plt.ylabel(\"Counts\")\n",
    "    plt.title(\"Distribution of end points\")\n",
    "    plt.text(0.05,0.8,\"Probability: \"+ str(probability)+\"%\", transform=ax.transAxes)\n",
    "    plt.axvline(minimum, color='Tomato', linestyle='--')\n",
    "    plt.show()"
   ]
  },
  {
   "cell_type": "markdown",
   "metadata": {},
   "source": [
    "## Putting everything together\n",
    "\n",
    "We will now use the above defined functions to solve the problem. The functions have been generalized. That means that they work for any number of dice rolls and any step to reach. "
   ]
  },
  {
   "cell_type": "code",
   "execution_count": 12,
   "metadata": {},
   "outputs": [
    {
     "data": {
      "image/png": "[encoded data removed]",
      "text/plain": [
       "<Figure size 432x288 with 1 Axes>"
      ]
     },
     "metadata": {
      "needs_background": "light"
     },
     "output_type": "display_data"
    },
    {
     "data": {
      "image/png": "[encoded data removed]",
      "text/plain": [
       "<Figure size 432x288 with 1 Axes>"
      ]
     },
     "metadata": {
      "needs_background": "light"
     },
     "output_type": "display_data"
    }
   ],
   "source": [
    "# Input parameters\n",
    "number_of_dice_rolls = 100\n",
    "minimum_step = 60\n",
    "number_of_pseudoexperiments = 5000\n",
    "\n",
    "# Create one sample random walk and visualize it\n",
    "walk = simulate_random_walk(number_of_dice_rolls)\n",
    "plot_random_walk(walk, minimum_step)\n",
    "\n",
    "# Create an ensemble of random walks\n",
    "set_of_walks, end_points = generate_multiple_walks(number_of_pseudoexperiments, number_of_dice_rolls)\n",
    "\n",
    "# Compute the probability of reaching step 'minimum' after 'number_of_dice_rolls' rolls\n",
    "probability = compute_probability(end_points,number_of_pseudoexperiments, minimum_step)\n",
    "\n",
    "# Visualise the set of random walks and display the resulting probability\n",
    "histogram_endpoints(end_points, probability, minimum_step)"
   ]
  },
  {
   "cell_type": "code",
   "execution_count": null,
   "metadata": {},
   "outputs": [],
   "source": []
  }
 ],
 "metadata": {
  "kernelspec": {
   "display_name": "Python 3",
   "language": "python",
   "name": "python3"
  },
  "language_info": {
   "codemirror_mode": {
    "name": "ipython",
    "version": 3
   },
   "file_extension": ".py",
   "mimetype": "text/x-python",
   "name": "python",
   "nbconvert_exporter": "python",
   "pygments_lexer": "ipython3",
   "version": "3.8.12"
  }
 },
 "nbformat": 4,
 "nbformat_minor": 1
}
